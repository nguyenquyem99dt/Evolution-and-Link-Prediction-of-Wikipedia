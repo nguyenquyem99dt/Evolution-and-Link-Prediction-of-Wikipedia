{
  "nbformat": 4,
  "nbformat_minor": 0,
  "metadata": {
    "colab": {
      "name": "wiki-link-p1v2.ipynb",
      "provenance": [],
      "collapsed_sections": []
    },
    "kernelspec": {
      "display_name": "Python 3",
      "name": "python3"
    }
  },
  "cells": [
    {
      "cell_type": "code",
      "metadata": {
        "colab": {
          "base_uri": "https://localhost:8080/"
        },
        "id": "--XmIjNT9KF4",
        "outputId": "8d00c0cd-c53c-488b-92e4-c9f945d7caa0"
      },
      "source": [
        "from google.colab import drive\r\n",
        "drive.mount('/content/drive')"
      ],
      "execution_count": null,
      "outputs": [
        {
          "output_type": "stream",
          "text": [
            "Mounted at /content/drive\n"
          ],
          "name": "stdout"
        }
      ]
    },
    {
      "cell_type": "markdown",
      "metadata": {
        "id": "cOxKEZjcwns8"
      },
      "source": [
        "<font color='yellow' size='5px'>\r\n",
        "Copy datasets to colab"
      ]
    },
    {
      "cell_type": "code",
      "metadata": {
        "id": "xszc1OMq9RxK"
      },
      "source": [
        "%mkdir /content/data/\r\n",
        "root_folder = '/content/drive/MyDrive/Uni/SNA/Final-Project/WikiLinksGraph/'\r\n",
        "file_name_2001 = 'enwiki.wikilink_graph.2001-03-01.csv.gz'\r\n",
        "file_name_2002 = 'enwiki.wikilink_graph.2002-03-01.csv.gz'\r\n",
        "file_name_2003 = 'enwiki.wikilink_graph.2003-03-01.csv.gz'\r\n",
        "file_name_2004 = 'enwiki.wikilink_graph.2004-03-01.csv.gz'\r\n",
        "file_name_2005 = 'enwiki.wikilink_graph.2005-03-01.csv.gz'\r\n",
        "file_name_2006 = 'enwiki.wikilink_graph.2006-03-01.csv.gz'\r\n",
        "\r\n",
        "\r\n",
        "\r\n",
        "file_2001 = root_folder + file_name_2001\r\n",
        "file_2002 = root_folder + file_name_2002\r\n",
        "file_2003 = root_folder + file_name_2003\r\n",
        "file_2004 = root_folder + file_name_2004\r\n",
        "file_2005 = root_folder + file_name_2005\r\n",
        "file_2006 = root_folder + file_name_2006\r\n",
        "\r\n",
        "\r\n",
        "path_2001 = './data/' + file_name_2001\r\n",
        "path_2002 = './data/' + file_name_2002\r\n",
        "path_2003 = './data/' + file_name_2003\r\n",
        "path_2004 = './data/' + file_name_2004\r\n",
        "path_2005 = './data/' + file_name_2005\r\n",
        "path_2006 = './data/' + file_name_2006\r\n"
      ],
      "execution_count": null,
      "outputs": []
    },
    {
      "cell_type": "code",
      "metadata": {
        "id": "9ZEuYfNW9gqv"
      },
      "source": [
        "%cp {file_2001} /content/data/\r\n",
        "%cp {file_2002} /content/data/\r\n",
        "%cp {file_2003} /content/data/\r\n",
        "%cp {file_2004} /content/data/\r\n",
        "%cp {file_2005} /content/data/\r\n",
        "%cp {file_2006} /content/data/\r\n"
      ],
      "execution_count": null,
      "outputs": []
    },
    {
      "cell_type": "markdown",
      "metadata": {
        "id": "gaskYLQtw5kz"
      },
      "source": [
        "<font color='yellow' size='5px'>\r\n",
        "Define functions to create graph from file and reduce memory usage"
      ]
    },
    {
      "cell_type": "code",
      "metadata": {
        "id": "H7TIjd2q9kKO"
      },
      "source": [
        "# ref: https://www.mikulskibartosz.name/how-to-reduce-memory-usage-in-pandas/\r\n",
        "import gc\r\n",
        "#from tqdm import tqdm\r\n",
        "import numpy as np\r\n",
        "\r\n",
        "def reduce_mem_usage(df, int_cast=True, obj_to_category=False, subset=None):\r\n",
        "    \"\"\"\r\n",
        "    Iterate through all the columns of a dataframe and modify the data type to reduce memory usage.\r\n",
        "    :param df: dataframe to reduce (pd.DataFrame)\r\n",
        "    :param int_cast: indicate if columns should be tried to be casted to int (bool)\r\n",
        "    :param obj_to_category: convert non-datetime related objects to category dtype (bool)\r\n",
        "    :param subset: subset of columns to analyse (list)\r\n",
        "    :return: dataset with the column dtypes adjusted (pd.DataFrame)\r\n",
        "    \"\"\"\r\n",
        "    start_mem = df.memory_usage().sum() / 1024 ** 2;\r\n",
        "    gc.collect()\r\n",
        "    #print('\\nMemory usage of dataframe is {:.2f} MB'.format(start_mem))\r\n",
        "\r\n",
        "    cols = subset if subset is not None else df.columns.tolist()\r\n",
        "\r\n",
        "    for col in cols:\r\n",
        "        col_type = df[col].dtype\r\n",
        "\r\n",
        "        if col_type != object and col_type.name != 'category' and 'datetime' not in col_type.name:\r\n",
        "            c_min = df[col].min()\r\n",
        "            c_max = df[col].max()\r\n",
        "\r\n",
        "            # test if column can be converted to an integer\r\n",
        "            treat_as_int = str(col_type)[:3] == 'int'\r\n",
        "            if int_cast and not treat_as_int:\r\n",
        "                treat_as_int = check_if_integer(df[col])\r\n",
        "\r\n",
        "            if treat_as_int:\r\n",
        "                if c_min > np.iinfo(np.int8).min and c_max < np.iinfo(np.int8).max:\r\n",
        "                    df[col] = df[col].astype(np.int8)\r\n",
        "                elif c_min > np.iinfo(np.uint8).min and c_max < np.iinfo(np.uint8).max:\r\n",
        "                    df[col] = df[col].astype(np.uint8)\r\n",
        "                elif c_min > np.iinfo(np.int16).min and c_max < np.iinfo(np.int16).max:\r\n",
        "                    df[col] = df[col].astype(np.int16)\r\n",
        "                elif c_min > np.iinfo(np.uint16).min and c_max < np.iinfo(np.uint16).max:\r\n",
        "                    df[col] = df[col].astype(np.uint16)\r\n",
        "                elif c_min > np.iinfo(np.int32).min and c_max < np.iinfo(np.int32).max:\r\n",
        "                    df[col] = df[col].astype(np.int32)\r\n",
        "                elif c_min > np.iinfo(np.uint32).min and c_max < np.iinfo(np.uint32).max:\r\n",
        "                    df[col] = df[col].astype(np.uint32)\r\n",
        "                elif c_min > np.iinfo(np.int64).min and c_max < np.iinfo(np.int64).max:\r\n",
        "                    df[col] = df[col].astype(np.int64)\r\n",
        "                elif c_min > np.iinfo(np.uint64).min and c_max < np.iinfo(np.uint64).max:\r\n",
        "                    df[col] = df[col].astype(np.uint64)\r\n",
        "            else:\r\n",
        "                if c_min > np.finfo(np.float16).min and c_max < np.finfo(np.float16).max:\r\n",
        "                    df[col] = df[col].astype(np.float16)\r\n",
        "                elif c_min > np.finfo(np.float32).min and c_max < np.finfo(np.float32).max:\r\n",
        "                    df[col] = df[col].astype(np.float32)\r\n",
        "                else:\r\n",
        "                    df[col] = df[col].astype(np.float64)\r\n",
        "        elif 'datetime' not in col_type.name and obj_to_category:\r\n",
        "            df[col] = df[col].astype('category')\r\n",
        "    gc.collect()\r\n",
        "    end_mem = df.memory_usage().sum() / 1024 ** 2\r\n",
        "    #print('Memory usage after optimization is: {:.3f} MB'.format(end_mem))\r\n",
        "    #print('Decreased by {:.1f}%'.format(100 * (start_mem - end_mem) / start_mem))\r\n",
        "\r\n",
        "    return df"
      ],
      "execution_count": null,
      "outputs": []
    },
    {
      "cell_type": "code",
      "metadata": {
        "id": "tRFzYg5I9lWD"
      },
      "source": [
        "import pandas as pd\r\n",
        "import networkx as nx\r\n",
        "def create_wiki_graph(path):\r\n",
        "  df = pd.read_csv(path, compression='gzip', delimiter='\\t')\r\n",
        "  df = reduce_mem_usage(df)\r\n",
        "  g = nx.from_pandas_edgelist(df, source='page_id_from', target='page_id_to', create_using=nx.DiGraph())\r\n",
        "\r\n",
        "  return g"
      ],
      "execution_count": null,
      "outputs": []
    },
    {
      "cell_type": "markdown",
      "metadata": {
        "id": "Fspne916xHht"
      },
      "source": [
        "<font color='yellow' size='5px'>\r\n",
        "Plot degree distribution"
      ]
    },
    {
      "cell_type": "code",
      "metadata": {
        "id": "guo6roje-ney"
      },
      "source": [
        "import matplotlib.pyplot as plt\r\n",
        "from collections import Counter\r\n",
        "def plot_degree_dist(path, title='Degree Distribution'):\r\n",
        "  g = create_wiki_graph(path)\r\n",
        "  degrees = [g.degree(n) for n in g.nodes()]\r\n",
        "  counts = Counter(degrees)                                                                                                 \r\n",
        "  x, y = zip(*counts.items())\r\n",
        "\r\n",
        "  plt.figure(1)\r\n",
        "  plt.title(title, color='red')\r\n",
        "  plt.xlabel('Degree')\r\n",
        "  plt.xscale('log')\r\n",
        "  plt.xlim(1, max(x))\r\n",
        "\r\n",
        "  plt.ylabel('Count')\r\n",
        "  plt.yscale('log')\r\n",
        "  plt.ylim(1, max(x))\r\n",
        "\r\n",
        "  plt.scatter(x,y, marker='o')\r\n",
        "  plt.show()"
      ],
      "execution_count": null,
      "outputs": []
    },
    {
      "cell_type": "code",
      "metadata": {
        "colab": {
          "base_uri": "https://localhost:8080/",
          "height": 1000
        },
        "id": "FeFihvtVB_-w",
        "outputId": "082cbaba-e7f7-4f72-ad95-5e2ae7efd932"
      },
      "source": [
        "plot_degree_dist(path_2001, title='2001')\r\n",
        "plot_degree_dist(path_2002, title='2002')\r\n",
        "plot_degree_dist(path_2003, title='2003')\r\n",
        "plot_degree_dist(path_2004, title='2004')\r\n",
        "plot_degree_dist(path_2005, title='2005')\r\n",
        "plot_degree_dist(path_2006, title='2006')"
      ],
      "execution_count": null,
      "outputs": [
        {
          "output_type": "display_data",
          "data": {
            "image/png": "[encoded data removed]",
            "text/plain": [
              "<Figure size 432x288 with 1 Axes>"
            ]
          },
          "metadata": {
            "tags": []
          }
        },
        {
          "output_type": "display_data",
          "data": {
            "image/png": "[encoded data removed]",
            "text/plain": [
              "<Figure size 432x288 with 1 Axes>"
            ]
          },
          "metadata": {
            "tags": []
          }
        },
        {
          "output_type": "display_data",
          "data": {
            "image/png": "[encoded data removed]",
            "text/plain": [
              "<Figure size 432x288 with 1 Axes>"
            ]
          },
          "metadata": {
            "tags": []
          }
        },
        {
          "output_type": "display_data",
          "data": {
            "image/png": "[encoded data removed]",
            "text/plain": [
              "<Figure size 432x288 with 1 Axes>"
            ]
          },
          "metadata": {
            "tags": []
          }
        },
        {
          "output_type": "display_data",
          "data": {
            "image/png": "[encoded data removed]",
            "text/plain": [
              "<Figure size 432x288 with 1 Axes>"
            ]
          },
          "metadata": {
            "tags": []
          }
        },
        {
          "output_type": "display_data",
          "data": {
            "image/png": "[encoded data removed]",
            "text/plain": [
              "<Figure size 432x288 with 1 Axes>"
            ]
          },
          "metadata": {
            "tags": []
          }
        }
      ]
    },
    {
      "cell_type": "markdown",
      "metadata": {
        "id": "ZM7UhsBUxOLh"
      },
      "source": [
        "<font color='yellow' size='5px'>\r\n",
        "Fraction of nodes in the largest weakly connected components"
      ]
    },
    {
      "cell_type": "code",
      "metadata": {
        "id": "OHZxXKq6CGBh"
      },
      "source": [
        "def calculate_ratio_largest_wcc(path):\r\n",
        "  g = create_wiki_graph(path)\r\n",
        "  largest_wcc = list(max(nx.weakly_connected_components(g), key=len))\r\n",
        "  ratio = len(largest_wcc)/len(g.nodes())\r\n",
        "  return ratio"
      ],
      "execution_count": null,
      "outputs": []
    },
    {
      "cell_type": "code",
      "metadata": {
        "colab": {
          "base_uri": "https://localhost:8080/",
          "height": 295
        },
        "id": "P2tlaCRSIKlE",
        "outputId": "7dcfadb9-b0d6-487e-b893-cc9d8010b106"
      },
      "source": [
        "def plot_ratios_largest_wcc():\r\n",
        "  ratios = []\r\n",
        "  ratios.append(calculate_ratio_largest_wcc(path_2001))\r\n",
        "  ratios.append(calculate_ratio_largest_wcc(path_2002))\r\n",
        "  ratios.append(calculate_ratio_largest_wcc(path_2003))\r\n",
        "  ratios.append(calculate_ratio_largest_wcc(path_2004))\r\n",
        "  ratios.append(calculate_ratio_largest_wcc(path_2005))\r\n",
        "  ratios.append(calculate_ratio_largest_wcc(path_2006))\r\n",
        "\r\n",
        "  snapshots = ['2001', '2002', '2003', '2004', '2005', '2006']\r\n",
        "  plt.figure(1)\r\n",
        "  plt.title('Fraction of nodes in the largest weakly connected components', color='red')\r\n",
        "  plt.xlabel('Year')\r\n",
        "  plt.ylabel('Ratio of nodes in the largest WCC')\r\n",
        "  plt.bar(snapshots, ratios)\r\n",
        "  plt.show()\r\n",
        "\r\n",
        "plot_ratios_largest_wcc()"
      ],
      "execution_count": null,
      "outputs": [
        {
          "output_type": "display_data",
          "data": {
            "image/png": "[encoded data removed]",
            "text/plain": [
              "<Figure size 432x288 with 1 Axes>"
            ]
          },
          "metadata": {
            "tags": []
          }
        }
      ]
    },
    {
      "cell_type": "markdown",
      "metadata": {
        "id": "f6z_mtRWxhsJ"
      },
      "source": [
        "<font color='yellow' size='5px'>\r\n",
        "Average Node Degree"
      ]
    },
    {
      "cell_type": "code",
      "metadata": {
        "id": "6SD4dFSMIbNi"
      },
      "source": [
        "def calculate_average_node_degree(path):\r\n",
        "  g = create_wiki_graph(path)\r\n",
        "  degrees = [nx.degree(g, n) for n in g.nodes()]\r\n",
        "  avg_node_degree = sum(degrees)/len(g.nodes())\r\n",
        "  return avg_node_degree"
      ],
      "execution_count": null,
      "outputs": []
    },
    {
      "cell_type": "code",
      "metadata": {
        "colab": {
          "base_uri": "https://localhost:8080/",
          "height": 295
        },
        "id": "pNJSbH9KBlV2",
        "outputId": "40e1afde-cbdb-41c7-993b-9b86aa2f93a4"
      },
      "source": [
        "def plot_average_node_degree():\r\n",
        "  list_degrees = []\r\n",
        "  list_degrees.append(calculate_average_node_degree(path_2001))\r\n",
        "  list_degrees.append(calculate_average_node_degree(path_2002))\r\n",
        "  list_degrees.append(calculate_average_node_degree(path_2003))\r\n",
        "  list_degrees.append(calculate_average_node_degree(path_2004))\r\n",
        "  list_degrees.append(calculate_average_node_degree(path_2005))\r\n",
        "  list_degrees.append(calculate_average_node_degree(path_2006))\r\n",
        "\r\n",
        "  snapshots = ['2001', '2002', '2003', '2004', '2005', '2006']\r\n",
        "\r\n",
        "  plt.figure(1)\r\n",
        "  plt.title('Average Node Degree', color='red')\r\n",
        "  plt.xlabel('Year')\r\n",
        "  plt.ylabel('Avg. Node Degree')\r\n",
        "  plt.plot(snapshots, list_degrees, marker='o')\r\n",
        "  plt.show()\r\n",
        "\r\n",
        "plot_average_node_degree()"
      ],
      "execution_count": null,
      "outputs": [
        {
          "output_type": "display_data",
          "data": {
            "image/png": "[encoded data removed]",
            "text/plain": [
              "<Figure size 432x288 with 1 Axes>"
            ]
          },
          "metadata": {
            "tags": []
          }
        }
      ]
    },
    {
      "cell_type": "markdown",
      "metadata": {
        "id": "x3jzlbzSTqW9"
      },
      "source": [
        "<font color='yellow' size='5px'>\r\n",
        "Log-log regression nodes vs edges"
      ]
    },
    {
      "cell_type": "code",
      "metadata": {
        "id": "i0d6VrFcUJ0s"
      },
      "source": [
        "nodes = []\r\n",
        "edges = []\r\n",
        "\r\n",
        "g = create_wiki_graph(path_2001)\r\n",
        "nodes.append(len(g.nodes()))\r\n",
        "edges.append(len(g.edges()))\r\n",
        "\r\n",
        "g = create_wiki_graph(path_2002)\r\n",
        "nodes.append(len(g.nodes()))\r\n",
        "edges.append(len(g.edges()))\r\n",
        "\r\n",
        "g = create_wiki_graph(path_2003)\r\n",
        "nodes.append(len(g.nodes()))\r\n",
        "edges.append(len(g.edges()))\r\n",
        "\r\n",
        "g = create_wiki_graph(path_2004)\r\n",
        "nodes.append(len(g.nodes()))\r\n",
        "edges.append(len(g.edges()))\r\n",
        "\r\n",
        "g = create_wiki_graph(path_2005)\r\n",
        "nodes.append(len(g.nodes()))\r\n",
        "edges.append(len(g.edges()))"
      ],
      "execution_count": null,
      "outputs": []
    },
    {
      "cell_type": "code",
      "metadata": {
        "colab": {
          "base_uri": "https://localhost:8080/",
          "height": 299
        },
        "id": "pPI1816CVrTL",
        "outputId": "e730c408-11b0-4a95-f79c-26fbd69ce7b7"
      },
      "source": [
        "def plot_loglog_regression_nodes_edges(nodes, edges):\r\n",
        "  nodes = np.array(nodes)\r\n",
        "  edges = np.array(edges)\r\n",
        "  fig = plt.figure()\r\n",
        "  ax = plt.gca() \r\n",
        "  fit = np.polyfit(np.log(nodes), np.log(edges), deg=1)\r\n",
        "  ax.plot(nodes, fit[0] * nodes + fit[1], color='red', marker='*', label='regression') # add reg line\r\n",
        "  ax.plot(nodes, edges, marker='o', color='green', label='origin')\r\n",
        "  ax.set_yscale('log')\r\n",
        "  ax.set_xscale('log')\r\n",
        "  ax.set_title('Linear fit of log-log edges and nodes', color='red')\r\n",
        "  ax.set_xlabel('Number of nodes')\r\n",
        "  ax.set_ylabel('Number of edges')\r\n",
        "  plt.legend()\r\n",
        "  plt.show()\r\n",
        "\r\n",
        "plot_loglog_regression_nodes_edges(nodes, edges)"
      ],
      "execution_count": null,
      "outputs": [
        {
          "output_type": "display_data",
          "data": {
            "image/png": "[encoded data removed]",
            "text/plain": [
              "<Figure size 432x288 with 1 Axes>"
            ]
          },
          "metadata": {
            "tags": []
          }
        }
      ]
    },
    {
      "cell_type": "markdown",
      "metadata": {
        "id": "XGMiI_yjCtNL"
      },
      "source": [
        "<font color='yellow' size='5px'>\r\n",
        "Average Clustering Coefficent"
      ]
    },
    {
      "cell_type": "code",
      "metadata": {
        "colab": {
          "base_uri": "https://localhost:8080/"
        },
        "id": "2nCWat98CsUu",
        "outputId": "ac884072-5293-4665-f1da-c7cf5c397c30"
      },
      "source": [
        "%%time\r\n",
        "avg_ccs = []\r\n",
        "avg_ccs.append(nx.average_clustering(create_wiki_graph(path_2001)))"
      ],
      "execution_count": null,
      "outputs": [
        {
          "output_type": "stream",
          "text": [
            "CPU times: user 159 ms, sys: 0 ns, total: 159 ms\n",
            "Wall time: 164 ms\n"
          ],
          "name": "stdout"
        }
      ]
    },
    {
      "cell_type": "code",
      "metadata": {
        "colab": {
          "base_uri": "https://localhost:8080/"
        },
        "id": "8kCGPnRaDZzU",
        "outputId": "5f3279d0-b9f5-4e29-e094-e30aac6dfe23"
      },
      "source": [
        "%%time\r\n",
        "avg_ccs.append(nx.average_clustering(create_wiki_graph(path_2002)))"
      ],
      "execution_count": null,
      "outputs": [
        {
          "output_type": "stream",
          "text": [
            "CPU times: user 7.26 s, sys: 81.9 ms, total: 7.34 s\n",
            "Wall time: 7.38 s\n"
          ],
          "name": "stdout"
        }
      ]
    },
    {
      "cell_type": "code",
      "metadata": {
        "colab": {
          "base_uri": "https://localhost:8080/"
        },
        "id": "huzy49dnDqEX",
        "outputId": "2cb36b58-8bfa-49c1-eb36-f77435dd70ce"
      },
      "source": [
        "%%time\r\n",
        "import random\r\n",
        "random.seed(1)\r\n",
        "g = create_wiki_graph(path_2003)\r\n",
        "nodes = random.choices(list(g.nodes()), k=10000)\r\n",
        "sub_g = g.subgraph(nodes)\r\n",
        "avg_ccs.append(nx.average_clustering(sub_g))"
      ],
      "execution_count": null,
      "outputs": [
        {
          "output_type": "stream",
          "text": [
            "CPU times: user 7.34 s, sys: 373 ms, total: 7.72 s\n",
            "Wall time: 7.78 s\n"
          ],
          "name": "stdout"
        }
      ]
    },
    {
      "cell_type": "code",
      "metadata": {
        "colab": {
          "base_uri": "https://localhost:8080/"
        },
        "id": "rpXeyU0HDs6Z",
        "outputId": "5264ce73-d4a3-4ed8-efdb-bb782a6ab965"
      },
      "source": [
        "%%time\r\n",
        "g = create_wiki_graph(path_2004)\r\n",
        "nodes = random.choices(list(g.nodes()), k=10000)\r\n",
        "sub_g = g.subgraph(nodes)\r\n",
        "avg_ccs.append(nx.average_clustering(sub_g))"
      ],
      "execution_count": null,
      "outputs": [
        {
          "output_type": "stream",
          "text": [
            "CPU times: user 48.4 s, sys: 910 ms, total: 49.3 s\n",
            "Wall time: 49.5 s\n"
          ],
          "name": "stdout"
        }
      ]
    },
    {
      "cell_type": "code",
      "metadata": {
        "colab": {
          "base_uri": "https://localhost:8080/"
        },
        "id": "_9dMYocCDuck",
        "outputId": "9f48a3bb-5253-4f3b-f447-a745db1eb738"
      },
      "source": [
        "%%time\r\n",
        "g = create_wiki_graph(path_2005)\r\n",
        "nodes = random.choices(list(g.nodes()), k=10000)\r\n",
        "sub_g = g.subgraph(nodes)\r\n",
        "avg_ccs.append(nx.average_clustering(sub_g))"
      ],
      "execution_count": null,
      "outputs": [
        {
          "output_type": "stream",
          "text": [
            "CPU times: user 55.3 s, sys: 2.5 s, total: 57.8 s\n",
            "Wall time: 58.1 s\n"
          ],
          "name": "stdout"
        }
      ]
    },
    {
      "cell_type": "code",
      "metadata": {
        "colab": {
          "base_uri": "https://localhost:8080/",
          "height": 295
        },
        "id": "lFo4sl7fVTSC",
        "outputId": "1d1e30f9-fa67-4f39-e80b-dec3660562fb"
      },
      "source": [
        "def plot_average_clustering(snapshots, avg_ccs):\r\n",
        "  plt.figure(1)\r\n",
        "  plt.title('Average Clustering Coefficent', color='red')\r\n",
        "  plt.xlabel('Year')\r\n",
        "  plt.ylabel('Avg. Clustering')\r\n",
        "  plt.plot(snapshots, avg_ccs, marker='o')\r\n",
        "  plt.show()\r\n",
        "\r\n",
        "snapshots = ['2001', '2002', '2003', '2004', '2005']\r\n",
        "plot_average_clustering(snapshots, avg_ccs)"
      ],
      "execution_count": null,
      "outputs": [
        {
          "output_type": "display_data",
          "data": {
            "image/png": "[encoded data removed]",
            "text/plain": [
              "<Figure size 432x288 with 1 Axes>"
            ]
          },
          "metadata": {
            "tags": []
          }
        }
      ]
    },
    {
      "cell_type": "markdown",
      "metadata": {
        "id": "eJlmHXV3UG5G"
      },
      "source": [
        "<font color='#ffff00' size='5px'>\r\n",
        "Effective diameter"
      ]
    },
    {
      "cell_type": "code",
      "metadata": {
        "colab": {
          "base_uri": "https://localhost:8080/"
        },
        "id": "gAEacQkxNrPV",
        "outputId": "62372394-818c-47ab-d071-0b640bf0e82f"
      },
      "source": [
        "!pip install networkit"
      ],
      "execution_count": null,
      "outputs": [
        {
          "output_type": "stream",
          "text": [
            "Collecting networkit\n",
            "\u001b[?25l  Downloading https://files.pythonhosted.org/packages/63/9c/597bf1194e823733561422cb8b34ab1ba096678ee592e5f046bacd9be7f6/networkit-8.0.tar.gz (3.0MB)\n",
            "\u001b[K     |████████████████████████████████| 3.0MB 5.9MB/s \n",
            "\u001b[?25hRequirement already satisfied: scipy in /usr/local/lib/python3.6/dist-packages (from networkit) (1.4.1)\n",
            "Requirement already satisfied: numpy in /usr/local/lib/python3.6/dist-packages (from networkit) (1.19.5)\n",
            "Building wheels for collected packages: networkit\n",
            "  Building wheel for networkit (setup.py) ... \u001b[?25l\u001b[?25hdone\n",
            "  Created wheel for networkit: filename=networkit-8.0-cp36-cp36m-linux_x86_64.whl size=8028858 sha256=865228cf4891bd19f459f68fa43694d9679a3935274b9f738ca50d1e65d467a9\n",
            "  Stored in directory: /root/.cache/pip/wheels/69/43/a6/9f253843afcae8370e0f50964224c2dd84142d0a57be0440dc\n",
            "Successfully built networkit\n",
            "Installing collected packages: networkit\n",
            "Successfully installed networkit-8.0\n"
          ],
          "name": "stdout"
        }
      ]
    },
    {
      "cell_type": "code",
      "metadata": {
        "colab": {
          "base_uri": "https://localhost:8080/",
          "height": 17
        },
        "id": "JaCrjjoZNPeo",
        "outputId": "ad42ad32-54e0-457f-a9c4-93ea486736f0"
      },
      "source": [
        "import networkit as nk\r\n",
        "def calculate_effective_diameter(path):\r\n",
        "  g = create_wiki_graph(path)\r\n",
        "  g_un = g.to_undirected()\r\n",
        "  largest_subgraph = g_un.subgraph(list(nx.connected_components(g_un))[0])\r\n",
        "  g_nk = nk.nxadapter.nx2nk(largest_subgraph)\r\n",
        "  eff_diameter = nk.distance.EffectiveDiameter(g_nk)\r\n",
        "  nk.distance.EffectiveDiameter.run(eff_diameter)\r\n",
        "  return nk.distance.EffectiveDiameter.getEffectiveDiameter(eff_diameter)"
      ],
      "execution_count": null,
      "outputs": [
        {
          "output_type": "display_data",
          "data": {
            "text/html": [
              "\n",
              "\t\t\t<script type=\"text/javascript\">\n",
              "\t\t\t<!--\n",
              "\t\t\t\t\n",
              "\t\t\t{\n",
              "\t\t\t\tvar element = document.getElementById('NetworKit_script');\n",
              "\t\t\t\tif (element) {\n",
              "\t\t\t\t\telement.parentNode.removeChild(element);\n",
              "\t\t\t\t}\n",
              "\t\t\t\telement = document.createElement('script');\n",
              "\t\t\t\telement.type = 'text/javascript';\n",
              "\t\t\t\telement.innerHTML = 'function NetworKit_pageEmbed(id) { var i, j; var elements; elements = document.getElementById(id).getElementsByClassName(\"Plot\"); for (i=0; i<elements.length; i++) { elements[i].id = id + \"_Plot_\" + i; var data = elements[i].getAttribute(\"data-image\").split(\"|\"); elements[i].removeAttribute(\"data-image\"); var content = \"<div class=\\\\\"Image\\\\\" id=\\\\\"\" + elements[i].id + \"_Image\\\\\" />\"; elements[i].innerHTML = content; elements[i].setAttribute(\"data-image-index\", 0); elements[i].setAttribute(\"data-image-length\", data.length); for (j=0; j<data.length; j++) { elements[i].setAttribute(\"data-image-\" + j, data[j]); } NetworKit_plotUpdate(elements[i]); elements[i].onclick = function (e) { NetworKit_overlayShow((e.target) ? e.target : e.srcElement); } } elements = document.getElementById(id).getElementsByClassName(\"HeatCell\"); for (i=0; i<elements.length; i++) { var data = parseFloat(elements[i].getAttribute(\"data-heat\")); var color = \"#00FF00\"; if (data <= 1 && data > 0) { color = \"hsla(0, 100%, 75%, \" + (data) + \")\"; } else if (data <= 0 && data >= -1) { color = \"hsla(240, 100%, 75%, \" + (-data) + \")\"; } elements[i].style.backgroundColor = color; } elements = document.getElementById(id).getElementsByClassName(\"Details\"); for (i=0; i<elements.length; i++) { elements[i].setAttribute(\"data-title\", \"-\"); NetworKit_toggleDetails(elements[i]); elements[i].onclick = function (e) { NetworKit_toggleDetails((e.target) ? e.target : e.srcElement); } } elements = document.getElementById(id).getElementsByClassName(\"MathValue\"); for (i=elements.length-1; i>=0; i--) { value = elements[i].innerHTML.trim(); if (value === \"nan\") { elements[i].parentNode.innerHTML = \"\" } } elements = document.getElementById(id).getElementsByClassName(\"SubCategory\"); for (i=elements.length-1; i>=0; i--) { value = elements[i].innerHTML.trim(); if (value === \"\") { elements[i].parentNode.removeChild(elements[i]) } } elements = document.getElementById(id).getElementsByClassName(\"Category\"); for (i=elements.length-1; i>=0; i--) { value = elements[i].innerHTML.trim(); if (value === \"\") { elements[i].parentNode.removeChild(elements[i]) } } var isFirefox = false; try { isFirefox = typeof InstallTrigger !== \"undefined\"; } catch (e) {} if (!isFirefox) { alert(\"Currently the function\\'s output is only fully supported by Firefox.\"); } } function NetworKit_plotUpdate(source) { var index = source.getAttribute(\"data-image-index\"); var data = source.getAttribute(\"data-image-\" + index); var image = document.getElementById(source.id + \"_Image\"); image.style.backgroundImage = \"url(\" + data + \")\"; } function NetworKit_showElement(id, show) { var element = document.getElementById(id); element.style.display = (show) ? \"block\" : \"none\"; } function NetworKit_overlayShow(source) { NetworKit_overlayUpdate(source); NetworKit_showElement(\"NetworKit_Overlay\", true); } function NetworKit_overlayUpdate(source) { document.getElementById(\"NetworKit_Overlay_Title\").innerHTML = source.title; var index = source.getAttribute(\"data-image-index\"); var data = source.getAttribute(\"data-image-\" + index); var image = document.getElementById(\"NetworKit_Overlay_Image\"); image.setAttribute(\"data-id\", source.id); image.style.backgroundImage = \"url(\" + data + \")\"; var link = document.getElementById(\"NetworKit_Overlay_Toolbar_Bottom_Save\"); link.href = data; link.download = source.title + \".svg\"; } function NetworKit_overlayImageShift(delta) { var image = document.getElementById(\"NetworKit_Overlay_Image\"); var source = document.getElementById(image.getAttribute(\"data-id\")); var index = parseInt(source.getAttribute(\"data-image-index\")); var length = parseInt(source.getAttribute(\"data-image-length\")); var index = (index+delta) % length; if (index < 0) { index = length + index; } source.setAttribute(\"data-image-index\", index); NetworKit_overlayUpdate(source); } function NetworKit_toggleDetails(source) { var childs = source.children; var show = false; if (source.getAttribute(\"data-title\") == \"-\") { source.setAttribute(\"data-title\", \"+\"); show = false; } else { source.setAttribute(\"data-title\", \"-\"); show = true; } for (i=0; i<childs.length; i++) { if (show) { childs[i].style.display = \"block\"; } else { childs[i].style.display = \"none\"; } } }';\n",
              "\t\t\t\telement.setAttribute('id', 'NetworKit_script');\n",
              "\t\t\t\tdocument.head.appendChild(element);\n",
              "\t\t\t}\n",
              "\t\t\n",
              "\t\t\t\t\n",
              "\t\t\t{\n",
              "\t\t\t\tvar element = document.getElementById('NetworKit_style');\n",
              "\t\t\t\tif (element) {\n",
              "\t\t\t\t\telement.parentNode.removeChild(element);\n",
              "\t\t\t\t}\n",
              "\t\t\t\telement = document.createElement('style');\n",
              "\t\t\t\telement.type = 'text/css';\n",
              "\t\t\t\telement.innerHTML = '.NetworKit_Page { font-family: Arial, Helvetica, sans-serif; font-size: 14px; } .NetworKit_Page .Value:before { font-family: Arial, Helvetica, sans-serif; font-size: 1.05em; content: attr(data-title) \":\"; margin-left: -2.5em; padding-right: 0.5em; } .NetworKit_Page .Details .Value:before { display: block; } .NetworKit_Page .Value { font-family: monospace; white-space: pre; padding-left: 2.5em; white-space: -moz-pre-wrap !important; white-space: -pre-wrap; white-space: -o-pre-wrap; white-space: pre-wrap; word-wrap: break-word; tab-size: 4; -moz-tab-size: 4; } .NetworKit_Page .Category { clear: both; padding-left: 1em; margin-bottom: 1.5em; } .NetworKit_Page .Category:before { content: attr(data-title); font-size: 1.75em; display: block; margin-left: -0.8em; margin-bottom: 0.5em; } .NetworKit_Page .SubCategory { margin-bottom: 1.5em; padding-left: 1em; } .NetworKit_Page .SubCategory:before { font-size: 1.6em; display: block; margin-left: -0.8em; margin-bottom: 0.5em; } .NetworKit_Page .SubCategory[data-title]:before { content: attr(data-title); } .NetworKit_Page .Block { display: block; } .NetworKit_Page .Block:after { content: \".\"; visibility: hidden; display: block; height: 0; clear: both; } .NetworKit_Page .Block .Thumbnail_Overview, .NetworKit_Page .Block .Thumbnail_ScatterPlot { width: 260px; float: left; } .NetworKit_Page .Block .Thumbnail_Overview img, .NetworKit_Page .Block .Thumbnail_ScatterPlot img { width: 260px; } .NetworKit_Page .Block .Thumbnail_Overview:before, .NetworKit_Page .Block .Thumbnail_ScatterPlot:before { display: block; text-align: center; font-weight: bold; } .NetworKit_Page .Block .Thumbnail_Overview:before { content: attr(data-title); } .NetworKit_Page .HeatCell { font-family: \"Courier New\", Courier, monospace; cursor: pointer; } .NetworKit_Page .HeatCell, .NetworKit_Page .HeatCellName { display: inline; padding: 0.1em; margin-right: 2px; background-color: #FFFFFF } .NetworKit_Page .HeatCellName { margin-left: 0.25em; } .NetworKit_Page .HeatCell:before { content: attr(data-heat); display: inline-block; color: #000000; width: 4em; text-align: center; } .NetworKit_Page .Measure { clear: both; } .NetworKit_Page .Measure .Details { cursor: pointer; } .NetworKit_Page .Measure .Details:before { content: \"[\" attr(data-title) \"]\"; display: block; } .NetworKit_Page .Measure .Details .Value { border-left: 1px dotted black; margin-left: 0.4em; padding-left: 3.5em; pointer-events: none; } .NetworKit_Page .Measure .Details .Spacer:before { content: \".\"; opacity: 0.0; pointer-events: none; } .NetworKit_Page .Measure .Plot { width: 440px; height: 440px; cursor: pointer; float: left; margin-left: -0.9em; margin-right: 20px; } .NetworKit_Page .Measure .Plot .Image { background-repeat: no-repeat; background-position: center center; background-size: contain; height: 100%; pointer-events: none; } .NetworKit_Page .Measure .Stat { width: 500px; float: left; } .NetworKit_Page .Measure .Stat .Group { padding-left: 1.25em; margin-bottom: 0.75em; } .NetworKit_Page .Measure .Stat .Group .Title { font-size: 1.1em; display: block; margin-bottom: 0.3em; margin-left: -0.75em; border-right-style: dotted; border-right-width: 1px; border-bottom-style: dotted; border-bottom-width: 1px; background-color: #D0D0D0; padding-left: 0.2em; } .NetworKit_Page .Measure .Stat .Group .List { -webkit-column-count: 3; -moz-column-count: 3; column-count: 3; } .NetworKit_Page .Measure .Stat .Group .List .Entry { position: relative; line-height: 1.75em; } .NetworKit_Page .Measure .Stat .Group .List .Entry[data-tooltip]:before { position: absolute; left: 0; top: -40px; background-color: #808080; color: #ffffff; height: 30px; line-height: 30px; border-radius: 5px; padding: 0 15px; content: attr(data-tooltip); white-space: nowrap; display: none; } .NetworKit_Page .Measure .Stat .Group .List .Entry[data-tooltip]:after { position: absolute; left: 15px; top: -10px; border-top: 7px solid #808080; border-left: 7px solid transparent; border-right: 7px solid transparent; content: \"\"; display: none; } .NetworKit_Page .Measure .Stat .Group .List .Entry[data-tooltip]:hover:after, .NetworKit_Page .Measure .Stat .Group .List .Entry[data-tooltip]:hover:before { display: block; } .NetworKit_Page .Measure .Stat .Group .List .Entry .MathValue { font-family: \"Courier New\", Courier, monospace; } .NetworKit_Page .Measure:after { content: \".\"; visibility: hidden; display: block; height: 0; clear: both; } .NetworKit_Page .PartitionPie { clear: both; } .NetworKit_Page .PartitionPie img { width: 600px; } #NetworKit_Overlay { left: 0px; top: 0px; display: none; position: absolute; width: 100%; height: 100%; background-color: rgba(0,0,0,0.6); z-index: 1000; } #NetworKit_Overlay_Title { position: absolute; color: white; transform: rotate(-90deg); width: 32em; height: 32em; padding-right: 0.5em; padding-top: 0.5em; text-align: right; font-size: 40px; } #NetworKit_Overlay .button { background: white; cursor: pointer; } #NetworKit_Overlay .button:before { size: 13px; display: inline-block; text-align: center; margin-top: 0.5em; margin-bottom: 0.5em; width: 1.5em; height: 1.5em; } #NetworKit_Overlay .icon-close:before { content: \"X\"; } #NetworKit_Overlay .icon-previous:before { content: \"P\"; } #NetworKit_Overlay .icon-next:before { content: \"N\"; } #NetworKit_Overlay .icon-save:before { content: \"S\"; } #NetworKit_Overlay_Toolbar_Top, #NetworKit_Overlay_Toolbar_Bottom { position: absolute; width: 40px; right: 13px; text-align: right; z-index: 1100; } #NetworKit_Overlay_Toolbar_Top { top: 0.5em; } #NetworKit_Overlay_Toolbar_Bottom { Bottom: 0.5em; } #NetworKit_Overlay_ImageContainer { position: absolute; top: 5%; left: 5%; height: 90%; width: 90%; background-repeat: no-repeat; background-position: center center; background-size: contain; } #NetworKit_Overlay_Image { height: 100%; width: 100%; background-repeat: no-repeat; background-position: center center; background-size: contain; }';\n",
              "\t\t\t\telement.setAttribute('id', 'NetworKit_style');\n",
              "\t\t\t\tdocument.head.appendChild(element);\n",
              "\t\t\t}\n",
              "\t\t\n",
              "\t\t\t\t\n",
              "\t\t\t{\n",
              "\t\t\t\tvar element = document.getElementById('NetworKit_Overlay');\n",
              "\t\t\t\tif (element) {\n",
              "\t\t\t\t\telement.parentNode.removeChild(element);\n",
              "\t\t\t\t}\n",
              "\t\t\t\telement = document.createElement('div');\n",
              "\t\t\t\telement.innerHTML = '<div id=\"NetworKit_Overlay_Toolbar_Top\"><div class=\"button icon-close\" id=\"NetworKit_Overlay_Close\" /></div><div id=\"NetworKit_Overlay_Title\" /> <div id=\"NetworKit_Overlay_ImageContainer\"> <div id=\"NetworKit_Overlay_Image\" /> </div> <div id=\"NetworKit_Overlay_Toolbar_Bottom\"> <div class=\"button icon-previous\" onclick=\"NetworKit_overlayImageShift(-1)\" /> <div class=\"button icon-next\" onclick=\"NetworKit_overlayImageShift(1)\" /> <a id=\"NetworKit_Overlay_Toolbar_Bottom_Save\"><div class=\"button icon-save\" /></a> </div>';\n",
              "\t\t\t\telement.setAttribute('id', 'NetworKit_Overlay');\n",
              "\t\t\t\tdocument.body.appendChild(element);\n",
              "\t\t\t\tdocument.getElementById('NetworKit_Overlay_Close').onclick = function (e) {\n",
              "\t\t\t\t\tdocument.getElementById('NetworKit_Overlay').style.display = 'none';\n",
              "\t\t\t\t}\n",
              "\t\t\t}\n",
              "\t\t\n",
              "\t\t\t-->\n",
              "\t\t\t</script>\n",
              "\t\t"
            ]
          },
          "metadata": {
            "tags": []
          }
        }
      ]
    },
    {
      "cell_type": "code",
      "metadata": {
        "colab": {
          "base_uri": "https://localhost:8080/"
        },
        "id": "XG-zVVBxRd5v",
        "outputId": "b6e91acf-d1dd-46fc-d736-ecda42854cf2"
      },
      "source": [
        "%%time\r\n",
        "effective_diameters = []\r\n",
        "effective_diameters.append(calculate_effective_diameter(path_2001))\r\n",
        "print('Effective diameter of year 2001:', effective_diameters[-1])"
      ],
      "execution_count": null,
      "outputs": [
        {
          "output_type": "stream",
          "text": [
            "Effective diameter of year 2001: 2.625\n",
            "CPU times: user 141 ms, sys: 1.39 ms, total: 143 ms\n",
            "Wall time: 155 ms\n"
          ],
          "name": "stdout"
        }
      ]
    },
    {
      "cell_type": "code",
      "metadata": {
        "colab": {
          "base_uri": "https://localhost:8080/"
        },
        "id": "Ig7aWwKYS8Xw",
        "outputId": "ac13376d-77b6-4ee4-efea-cc8516a69a1f"
      },
      "source": [
        "%%time\r\n",
        "effective_diameters.append(calculate_effective_diameter(path_2002))\r\n",
        "print('Effective diameter of year 2002:', effective_diameters[-1])"
      ],
      "execution_count": null,
      "outputs": [
        {
          "output_type": "stream",
          "text": [
            "Effective diameter of year 2002: 4.857189566228294\n",
            "CPU times: user 3min 25s, sys: 332 ms, total: 3min 26s\n",
            "Wall time: 3min 27s\n"
          ],
          "name": "stdout"
        }
      ]
    },
    {
      "cell_type": "code",
      "metadata": {
        "colab": {
          "base_uri": "https://localhost:8080/"
        },
        "id": "0qezuHELTCF9",
        "outputId": "2857010c-3ae5-40d1-8be7-641e81177dc1"
      },
      "source": [
        "%%time\r\n",
        "effective_diameters.append(calculate_effective_diameter(path_2003))\r\n",
        "print('Effective diameter of year 2003:', effective_diameters[-1])"
      ],
      "execution_count": null,
      "outputs": [
        {
          "output_type": "stream",
          "text": [
            "Effective diameter of year 2003: 4.18139366607209\n",
            "CPU times: user 1h 13min 18s, sys: 9.79 s, total: 1h 13min 28s\n",
            "Wall time: 1h 13min 57s\n"
          ],
          "name": "stdout"
        }
      ]
    },
    {
      "cell_type": "code",
      "metadata": {
        "colab": {
          "base_uri": "https://localhost:8080/",
          "height": 295
        },
        "id": "EsFgo2ciTCEW",
        "outputId": "aa45049b-cf8e-4ae7-fb44-fc661ed36dff"
      },
      "source": [
        "snapshots = ['2001', '2002', '2003']\r\n",
        "def plot_effective_diameters(snapshots, effective_diameters):\r\n",
        "  plt.figure(1)\r\n",
        "  plt.title('Effective Diameters', color='red')\r\n",
        "  plt.xlabel('Year')\r\n",
        "  plt.ylabel('Effective Diameter')\r\n",
        "  plt.plot(snapshots, effective_diameters, marker='o')\r\n",
        "  plt.show()\r\n",
        "\r\n",
        "plot_effective_diameters(snapshots, effective_diameters)"
      ],
      "execution_count": null,
      "outputs": [
        {
          "output_type": "display_data",
          "data": {
            "image/png": "[encoded data removed]",
            "text/plain": [
              "<Figure size 432x288 with 1 Axes>"
            ]
          },
          "metadata": {
            "tags": []
          }
        }
      ]
    },
    {
      "cell_type": "code",
      "metadata": {
        "id": "H5vs-sjMXEVO"
      },
      "source": [
        ""
      ],
      "execution_count": null,
      "outputs": []
    }
  ]
}